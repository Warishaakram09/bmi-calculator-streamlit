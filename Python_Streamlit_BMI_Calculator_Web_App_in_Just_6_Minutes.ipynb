{
  "nbformat": 4,
  "nbformat_minor": 0,
  "metadata": {
    "colab": {
      "provenance": []
    },
    "kernelspec": {
      "name": "python3",
      "display_name": "Python 3"
    },
    "language_info": {
      "name": "python"
    }
  },
  "cells": [
    {
      "cell_type": "code",
      "source": [
        "bmi_code = '''\n",
        "import streamlit as st\n",
        "\n",
        "st.title(\"💪 Simple BMI Calculator\")\n",
        "\n",
        "height = st.number_input(\"Enter your height (in meters)\", min_value=0.0, format=\"%.2f\")\n",
        "weight = st.number_input(\"Enter your weight (in kilograms)\", min_value=0.0, format=\"%.2f\")\n",
        "\n",
        "if st.button(\"Calculate BMI\"):\n",
        "    if height > 0 and weight > 0:\n",
        "        bmi = weight / (height ** 2)\n",
        "        st.success(f\"Your BMI is: {bmi:.2f}\")\n",
        "\n",
        "        if bmi < 18.5:\n",
        "            st.info(\"You are Underweight.\")\n",
        "        elif 18.5 <= bmi < 25:\n",
        "            st.success(\"You are Normal weight.\")\n",
        "        elif 25 <= bmi < 30:\n",
        "            st.warning(\"You are Overweight.\")\n",
        "        else:\n",
        "            st.error(\"You are Obese.\")\n",
        "    else:\n",
        "        st.error(\"Please enter valid height and weight.\")\n",
        "'''\n",
        "\n",
        "with open('app.py', 'w') as f:\n",
        "    f.write(bmi_code)\n"
      ],
      "metadata": {
        "id": "iFHVZ4QQlZ4F"
      },
      "execution_count": 18,
      "outputs": []
    },
    {
      "cell_type": "code",
      "source": [
        "!streamlit run app.py\n"
      ],
      "metadata": {
        "colab": {
          "base_uri": "https://localhost:8080/"
        },
        "id": "SPv0I6hPlvWM",
        "outputId": "2bf92f2c-fa5a-4377-fb61-6587ce58bbd1"
      },
      "execution_count": null,
      "outputs": [
        {
          "output_type": "stream",
          "name": "stdout",
          "text": [
            "\n",
            "Collecting usage statistics. To deactivate, set browser.gatherUsageStats to false.\n",
            "\u001b[0m\n",
            "\u001b[0m\n",
            "\u001b[34m\u001b[1m  You can now view your Streamlit app in your browser.\u001b[0m\n",
            "\u001b[0m\n",
            "\u001b[34m  Local URL: \u001b[0m\u001b[1mhttp://localhost:8501\u001b[0m\n",
            "\u001b[34m  Network URL: \u001b[0m\u001b[1mhttp://172.28.0.12:8501\u001b[0m\n",
            "\u001b[34m  External URL: \u001b[0m\u001b[1mhttp://34.106.215.133:8501\u001b[0m\n",
            "\u001b[0m\n"
          ]
        }
      ]
    }
  ]
}